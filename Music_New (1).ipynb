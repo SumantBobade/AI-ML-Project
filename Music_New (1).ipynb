{
 "cells": [
  {
   "cell_type": "code",
   "execution_count": 1,
   "id": "dcf2462a",
   "metadata": {},
   "outputs": [],
   "source": [
    "import numpy as np\n",
    "import pandas as pd"
   ]
  },
  {
   "cell_type": "code",
   "execution_count": 2,
   "id": "b62a9b97",
   "metadata": {},
   "outputs": [],
   "source": [
    "df= pd.read_csv(r\"D:\\Music Recomendation System\\archive (4)\\songdata.csv\")"
   ]
  },
  {
   "cell_type": "code",
   "execution_count": 3,
   "id": "6723a44f",
   "metadata": {},
   "outputs": [
    {
     "data": {
      "text/html": [
       "<div>\n",
       "<style scoped>\n",
       "    .dataframe tbody tr th:only-of-type {\n",
       "        vertical-align: middle;\n",
       "    }\n",
       "\n",
       "    .dataframe tbody tr th {\n",
       "        vertical-align: top;\n",
       "    }\n",
       "\n",
       "    .dataframe thead th {\n",
       "        text-align: right;\n",
       "    }\n",
       "</style>\n",
       "<table border=\"1\" class=\"dataframe\">\n",
       "  <thead>\n",
       "    <tr style=\"text-align: right;\">\n",
       "      <th></th>\n",
       "      <th>artist</th>\n",
       "      <th>song</th>\n",
       "      <th>link</th>\n",
       "      <th>text</th>\n",
       "    </tr>\n",
       "  </thead>\n",
       "  <tbody>\n",
       "    <tr>\n",
       "      <th>0</th>\n",
       "      <td>ABBA</td>\n",
       "      <td>Ahe's My Kind Of Girl</td>\n",
       "      <td>/a/abba/ahes+my+kind+of+girl_20598417.html</td>\n",
       "      <td>Look at her face, it's a wonderful face  \\nAnd...</td>\n",
       "    </tr>\n",
       "    <tr>\n",
       "      <th>1</th>\n",
       "      <td>ABBA</td>\n",
       "      <td>Andante, Andante</td>\n",
       "      <td>/a/abba/andante+andante_20002708.html</td>\n",
       "      <td>Take it easy with me, please  \\nTouch me gentl...</td>\n",
       "    </tr>\n",
       "    <tr>\n",
       "      <th>2</th>\n",
       "      <td>ABBA</td>\n",
       "      <td>As Good As New</td>\n",
       "      <td>/a/abba/as+good+as+new_20003033.html</td>\n",
       "      <td>I'll never know why I had to go  \\nWhy I had t...</td>\n",
       "    </tr>\n",
       "  </tbody>\n",
       "</table>\n",
       "</div>"
      ],
      "text/plain": [
       "  artist                   song                                        link  \\\n",
       "0   ABBA  Ahe's My Kind Of Girl  /a/abba/ahes+my+kind+of+girl_20598417.html   \n",
       "1   ABBA       Andante, Andante       /a/abba/andante+andante_20002708.html   \n",
       "2   ABBA         As Good As New        /a/abba/as+good+as+new_20003033.html   \n",
       "\n",
       "                                                text  \n",
       "0  Look at her face, it's a wonderful face  \\nAnd...  \n",
       "1  Take it easy with me, please  \\nTouch me gentl...  \n",
       "2  I'll never know why I had to go  \\nWhy I had t...  "
      ]
     },
     "execution_count": 3,
     "metadata": {},
     "output_type": "execute_result"
    }
   ],
   "source": [
    "df.head(3)"
   ]
  },
  {
   "cell_type": "code",
   "execution_count": 4,
   "id": "69648800",
   "metadata": {},
   "outputs": [
    {
     "data": {
      "text/plain": [
       "(57650, 4)"
      ]
     },
     "execution_count": 4,
     "metadata": {},
     "output_type": "execute_result"
    }
   ],
   "source": [
    "df.shape"
   ]
  },
  {
   "cell_type": "code",
   "execution_count": 5,
   "id": "7d36d3d8",
   "metadata": {},
   "outputs": [],
   "source": [
    "df=df.sample(n=5000).drop('link',axis=1).reset_index(drop=True)"
   ]
  },
  {
   "cell_type": "code",
   "execution_count": 6,
   "id": "c183f193",
   "metadata": {},
   "outputs": [],
   "source": [
    "#cleaning"
   ]
  },
  {
   "cell_type": "code",
   "execution_count": 7,
   "id": "bf41d4e4",
   "metadata": {},
   "outputs": [
    {
     "data": {
      "text/plain": [
       "'You Stopped Loving Me'"
      ]
     },
     "execution_count": 7,
     "metadata": {},
     "output_type": "execute_result"
    }
   ],
   "source": [
    "df['song'][0]"
   ]
  },
  {
   "cell_type": "code",
   "execution_count": 8,
   "id": "2d1607db",
   "metadata": {},
   "outputs": [
    {
     "data": {
      "text/plain": [
       "\"You know  \\nI've had a lot of things happen to me in my life  \\nAnd yet  \\n  \\nI don't spend much of my time  \\nFeelin' sad  \\nI don't let anything turn my sunshine to rain  \\nI never have  \\n  \\nWell, people have told me I'm not worth the time of day  \\nSaid I was over the hill  \\nAnd it's been said that I always get in the way  \\nBut nothin' seemed to hurt me till  \\n  \\nYou stopped lovin'  \\nYou stopped lovin' me  \\nWhy'd you do that  \\nYou stopped lovin'  \\nYou stopped lovin' me  \\nLovin' me  \\nAnd I don't want to do  \\nDon't know what I'm gonna do, my love  \\n  \\n(You stopped)  \\n(You stopped)  \\n(You stopped)  \\nI just can't get it together since  \\n  \\n(You stopped)  \\n(You stopped)  \\n(You stopped)  \\nOh  \\n  \\nOut of your love, my love came  \\nYou made me strong  \\nWell, it's just a shame, I don't know who or what to blame  \\nNow that you're gone  \\n  \\nI walk down the avenue right where I first met you  \\nThat nothin' else could do, yeah, yeah  \\nNot a place I go through that I don't run into  \\nSomethin' to remind me that  \\n  \\nYou stopped lovin'  \\nYou stopped lovin' me  \\nWhy'd you do that  \\nYou stopped lovin', oh  \\nYou stopped lovin' me  \\nLovin' me  \\nAnd I don't want to do  \\nDon't know what I'm gonna do, my love  \\n  \\n(You stopped)  \\n(You stopped)  \\n(You stopped)  \\nI just can't get it together since  \\n  \\n(You stopped)  \\n(You stopped)  \\n(You stopped)  \\nNo, I just can't get it together since  \\n  \\n(You stopped)  \\n(You stopped)  \\n(You stopped)  \\nI just can't get it together since, no  \\n  \\n(You stopped)  \\n(You stopped)  \\n(You stopped)  \\nOoh...oh...ho...  \\n  \\nYou stopped lovin', whoa, whoa  \\nYou stopped lovin' me, whoa, whoa, whoa  \\nYou stopped lovin', whoa, whoa  \\nYou stopped lovin' me, whoa, whoa, whoa  \\n  \\n(You stopped lovin') I wonder why, wonder why, baby  \\n(You stopped lovin' me) Why'd you do it, why'd you do that  \\n(You stopped lovin') I wonder why, wonder why, baby  \\n(You stopped lovin' me) Why'd you do it, girl, girl, yeah  \\n  \\n(You stopped lovin') Why'd you do that, girl  \\n(You stopped lovin' me) I wanna know, wanna know, wanna know  \\n(You stopped lovin') Why'd you do that, baby  \\n(You stopped lovin' me) You stopped, you stopped, you stopped  \\n  \\n(You stopped lovin') You don't no more, you surely stopped, girl  \\n(You stopped lovin' me) Oh...oh...yes, you did  \\n(You stopped lovin') If you don't anymore, you've surely stopped, girl  \\n(You stopped lovin' me)  \\n  \\n(You stopped lovin') I wanna know, wanna know, wanna know  \\n(You stopped lovin' me) Why'd you do that, why'd you do that, baby  \\n(You stopped lovin')  \\n(You stopped lovin' me)  \\n  \\n(You stopped lovin')  \\n(You stopped lovin' me)  \\n\\n\""
      ]
     },
     "execution_count": 8,
     "metadata": {},
     "output_type": "execute_result"
    }
   ],
   "source": [
    "df['text'][0]"
   ]
  },
  {
   "cell_type": "code",
   "execution_count": 9,
   "id": "e278c328",
   "metadata": {},
   "outputs": [],
   "source": [
    "df['text'] = df['text'].str.lower().replace(r'[^\\w\\s]','').replace(r'\\n',' ',regex=True)"
   ]
  },
  {
   "cell_type": "code",
   "execution_count": 10,
   "id": "269cb4e7",
   "metadata": {},
   "outputs": [
    {
     "name": "stdout",
     "output_type": "stream",
     "text": [
      "Requirement already satisfied: nlpk in d:\\anaconda\\lib\\site-packages (0.0.6)\n",
      "Note: you may need to restart the kernel to use updated packages.\n"
     ]
    }
   ],
   "source": [
    "pip install nlpk"
   ]
  },
  {
   "cell_type": "code",
   "execution_count": 11,
   "id": "e80cecc7",
   "metadata": {},
   "outputs": [],
   "source": [
    "import nltk\n",
    "from nltk.stem.porter import PorterStemmer\n",
    "\n",
    "ps = PorterStemmer()\n",
    "\n",
    "def tokenization(txt):\n",
    "    tokens =nltk.word_tokenize(txt)\n",
    "    stemming = [ps.stem(w) for w in tokens]\n",
    "        \n",
    "    return \" \".join(stemming)"
   ]
  },
  {
   "cell_type": "code",
   "execution_count": 12,
   "id": "a2c8ef98",
   "metadata": {},
   "outputs": [
    {
     "name": "stderr",
     "output_type": "stream",
     "text": [
      "[nltk_data] Downloading package punkt to\n",
      "[nltk_data]     C:\\Users\\suman\\AppData\\Roaming\\nltk_data...\n",
      "[nltk_data]   Package punkt is already up-to-date!\n"
     ]
    },
    {
     "data": {
      "text/plain": [
       "True"
      ]
     },
     "execution_count": 12,
     "metadata": {},
     "output_type": "execute_result"
    }
   ],
   "source": [
    "import nltk\n",
    "nltk.download('punkt')"
   ]
  },
  {
   "cell_type": "code",
   "execution_count": 13,
   "id": "5f019615",
   "metadata": {},
   "outputs": [],
   "source": [
    "df['text']= df['text'].apply(lambda x: tokenization(x))"
   ]
  },
  {
   "cell_type": "code",
   "execution_count": 14,
   "id": "04e2fa9b",
   "metadata": {},
   "outputs": [
    {
     "data": {
      "text/plain": [
       "0       you know i 've had a lot of thing happen to me...\n",
       "1       delight see our face are both shine and i 've ...\n",
       "2       who would believ after such a long time i foun...\n",
       "3       can i sleep in your arm tonight ladi , it 's s...\n",
       "4       crazi love , peopl say i 'm crazi in love . ju...\n",
       "                              ...                        \n",
       "4995    hold on , hold on to opportun you thought long...\n",
       "4996    yeah , what 's up , man ? icp in thi bitch ya ...\n",
       "4997    i 'm full of regret for all the thing that i h...\n",
       "4998    that i deni one time too mani she left me at t...\n",
       "4999    big booti she said i ai n't gon na fix you no ...\n",
       "Name: text, Length: 5000, dtype: object"
      ]
     },
     "execution_count": 14,
     "metadata": {},
     "output_type": "execute_result"
    }
   ],
   "source": [
    "df['text']"
   ]
  },
  {
   "cell_type": "code",
   "execution_count": 15,
   "id": "b5953795",
   "metadata": {},
   "outputs": [
    {
     "name": "stdout",
     "output_type": "stream",
     "text": [
      "Requirement already satisfied: scikit-learn in d:\\anaconda\\lib\\site-packages (1.4.1.post1)\n",
      "Requirement already satisfied: numpy<2.0,>=1.19.5 in d:\\anaconda\\lib\\site-packages (from scikit-learn) (1.24.3)\n",
      "Requirement already satisfied: scipy>=1.6.0 in d:\\anaconda\\lib\\site-packages (from scikit-learn) (1.11.1)\n",
      "Requirement already satisfied: joblib>=1.2.0 in d:\\anaconda\\lib\\site-packages (from scikit-learn) (1.2.0)\n",
      "Requirement already satisfied: threadpoolctl>=2.0.0 in d:\\anaconda\\lib\\site-packages (from scikit-learn) (2.2.0)\n"
     ]
    }
   ],
   "source": [
    "\n",
    "!pip install --upgrade scikit-learn\n"
   ]
  },
  {
   "cell_type": "code",
   "execution_count": 16,
   "id": "ab146ac0",
   "metadata": {},
   "outputs": [],
   "source": [
    "from sklearn.metrics.pairwise import cosine_similarity"
   ]
  },
  {
   "cell_type": "code",
   "execution_count": 17,
   "id": "8326a309",
   "metadata": {},
   "outputs": [],
   "source": [
    "from sklearn.feature_extraction.text import TfidfVectorizer"
   ]
  },
  {
   "cell_type": "code",
   "execution_count": 18,
   "id": "30c4d9d2",
   "metadata": {},
   "outputs": [],
   "source": [
    "tfid = TfidfVectorizer(stop_words='english')\n",
    "matrix = tfid.fit_transform(df['text'])"
   ]
  },
  {
   "cell_type": "code",
   "execution_count": 19,
   "id": "5ba7cd4f",
   "metadata": {},
   "outputs": [
    {
     "data": {
      "text/plain": [
       "(5000, 17459)"
      ]
     },
     "execution_count": 19,
     "metadata": {},
     "output_type": "execute_result"
    }
   ],
   "source": [
    "matrix.shape"
   ]
  },
  {
   "cell_type": "code",
   "execution_count": 20,
   "id": "e7fce501",
   "metadata": {},
   "outputs": [],
   "source": [
    "similarity=cosine_similarity(matrix)"
   ]
  },
  {
   "cell_type": "code",
   "execution_count": 21,
   "id": "b1999842",
   "metadata": {},
   "outputs": [
    {
     "data": {
      "text/plain": [
       "array([1.        , 0.01497158, 0.0116116 , ..., 0.03926483, 0.02031941,\n",
       "       0.02029328])"
      ]
     },
     "execution_count": 21,
     "metadata": {},
     "output_type": "execute_result"
    }
   ],
   "source": [
    "similarity[0]"
   ]
  },
  {
   "cell_type": "code",
   "execution_count": 22,
   "id": "26ae9eba",
   "metadata": {},
   "outputs": [],
   "source": [
    "Song_Recoment = df['song'][1]"
   ]
  },
  {
   "cell_type": "code",
   "execution_count": 23,
   "id": "edf9ee7a",
   "metadata": {},
   "outputs": [
    {
     "data": {
      "text/html": [
       "<div>\n",
       "<style scoped>\n",
       "    .dataframe tbody tr th:only-of-type {\n",
       "        vertical-align: middle;\n",
       "    }\n",
       "\n",
       "    .dataframe tbody tr th {\n",
       "        vertical-align: top;\n",
       "    }\n",
       "\n",
       "    .dataframe thead th {\n",
       "        text-align: right;\n",
       "    }\n",
       "</style>\n",
       "<table border=\"1\" class=\"dataframe\">\n",
       "  <thead>\n",
       "    <tr style=\"text-align: right;\">\n",
       "      <th></th>\n",
       "      <th>artist</th>\n",
       "      <th>song</th>\n",
       "      <th>text</th>\n",
       "    </tr>\n",
       "  </thead>\n",
       "  <tbody>\n",
       "    <tr>\n",
       "      <th>3733</th>\n",
       "      <td>Richard Marx</td>\n",
       "      <td>Inside</td>\n",
       "      <td>star alight , august night , and you and i are...</td>\n",
       "    </tr>\n",
       "    <tr>\n",
       "      <th>4703</th>\n",
       "      <td>Van Halen</td>\n",
       "      <td>Inside</td>\n",
       "      <td>it 's not what you are it 's how you dress tha...</td>\n",
       "    </tr>\n",
       "  </tbody>\n",
       "</table>\n",
       "</div>"
      ],
      "text/plain": [
       "            artist    song                                               text\n",
       "3733  Richard Marx  Inside  star alight , august night , and you and i are...\n",
       "4703     Van Halen  Inside  it 's not what you are it 's how you dress tha..."
      ]
     },
     "execution_count": 23,
     "metadata": {},
     "output_type": "execute_result"
    }
   ],
   "source": [
    "df[df['song']=='Inside']"
   ]
  },
  {
   "cell_type": "code",
   "execution_count": 24,
   "id": "ccd163cb",
   "metadata": {},
   "outputs": [],
   "source": [
    "def recommendation(song):\n",
    "    idx = df[df['song'] == song].index[0]\n",
    "    distance = sorted(list(enumerate(similarity[0])),reverse=False,key=lambda x:x[1])\n",
    "    \n",
    "    songs = []\n",
    "    for i in distance[1:21]:\n",
    "        songs.append(df.iloc[i[0]].song)\n",
    "        \n",
    "    return songs"
   ]
  },
  {
   "cell_type": "code",
   "execution_count": 25,
   "id": "8dbf796f",
   "metadata": {},
   "outputs": [
    {
     "data": {
      "text/plain": [
       "['Remember Tomorrow',\n",
       " 'Caroling, Caroling',\n",
       " 'Ratamahatta',\n",
       " 'Dangerous',\n",
       " 'Sayap-Sayap Patah',\n",
       " 'Living Like A Moviestar',\n",
       " 'I Lift You High',\n",
       " 'Coretan Dinding',\n",
       " 'Ave Maria',\n",
       " 'Toy Story',\n",
       " 'Besar Dan Kecil',\n",
       " 'The Gate',\n",
       " 'Blessed',\n",
       " 'Wish You Were Here',\n",
       " 'Panic Song',\n",
       " 'Invasion',\n",
       " 'Butterfly Boys',\n",
       " 'Gifted Response',\n",
       " 'How Great Our Joy',\n",
       " 'Wild Wine']"
      ]
     },
     "execution_count": 25,
     "metadata": {},
     "output_type": "execute_result"
    }
   ],
   "source": [
    "recommendation(Song_Recoment)\n",
    "#by default i had use first song and this 20 songs are recomendation for this songs\n"
   ]
  }
 ],
 "metadata": {
  "kernelspec": {
   "display_name": "Python 3 (ipykernel)",
   "language": "python",
   "name": "python3"
  },
  "language_info": {
   "codemirror_mode": {
    "name": "ipython",
    "version": 3
   },
   "file_extension": ".py",
   "mimetype": "text/x-python",
   "name": "python",
   "nbconvert_exporter": "python",
   "pygments_lexer": "ipython3",
   "version": "3.11.5"
  }
 },
 "nbformat": 4,
 "nbformat_minor": 5
}
